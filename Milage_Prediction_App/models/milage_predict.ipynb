{
 "cells": [
  {
   "cell_type": "code",
   "execution_count": 28,
   "metadata": {},
   "outputs": [],
   "source": [
    "import numpy as np\n",
    "import pandas as pd\n",
    "from sklearn import pipeline,preprocessing,metrics,model_selection,ensemble,impute\n",
    "from sklearn_pandas import DataFrameMapper"
   ]
  },
  {
   "cell_type": "code",
   "execution_count": 29,
   "metadata": {},
   "outputs": [],
   "source": [
    "data=pd.read_csv(\"C:\\\\Users\\\\Krishna P\\\\Downloads\\\\milage.txt\")"
   ]
  },
  {
   "cell_type": "code",
   "execution_count": 30,
   "metadata": {},
   "outputs": [
    {
     "data": {
      "text/html": [
       "<div>\n",
       "<style scoped>\n",
       "    .dataframe tbody tr th:only-of-type {\n",
       "        vertical-align: middle;\n",
       "    }\n",
       "\n",
       "    .dataframe tbody tr th {\n",
       "        vertical-align: top;\n",
       "    }\n",
       "\n",
       "    .dataframe thead th {\n",
       "        text-align: right;\n",
       "    }\n",
       "</style>\n",
       "<table border=\"1\" class=\"dataframe\">\n",
       "  <thead>\n",
       "    <tr style=\"text-align: right;\">\n",
       "      <th></th>\n",
       "      <th>mpg</th>\n",
       "      <th>cylinders</th>\n",
       "      <th>displacement</th>\n",
       "      <th>horsepower</th>\n",
       "      <th>weight</th>\n",
       "      <th>acceleration</th>\n",
       "      <th>model year</th>\n",
       "      <th>origin</th>\n",
       "      <th>car name</th>\n",
       "    </tr>\n",
       "  </thead>\n",
       "  <tbody>\n",
       "    <tr>\n",
       "      <th>0</th>\n",
       "      <td>18.0</td>\n",
       "      <td>8</td>\n",
       "      <td>307.0</td>\n",
       "      <td>130.0</td>\n",
       "      <td>3504</td>\n",
       "      <td>12.0</td>\n",
       "      <td>70</td>\n",
       "      <td>1</td>\n",
       "      <td>chevrolet chevelle malibu</td>\n",
       "    </tr>\n",
       "    <tr>\n",
       "      <th>1</th>\n",
       "      <td>15.0</td>\n",
       "      <td>8</td>\n",
       "      <td>350.0</td>\n",
       "      <td>165.0</td>\n",
       "      <td>3693</td>\n",
       "      <td>11.5</td>\n",
       "      <td>70</td>\n",
       "      <td>1</td>\n",
       "      <td>buick skylark 320</td>\n",
       "    </tr>\n",
       "    <tr>\n",
       "      <th>2</th>\n",
       "      <td>18.0</td>\n",
       "      <td>8</td>\n",
       "      <td>318.0</td>\n",
       "      <td>150.0</td>\n",
       "      <td>3436</td>\n",
       "      <td>11.0</td>\n",
       "      <td>70</td>\n",
       "      <td>1</td>\n",
       "      <td>plymouth satellite</td>\n",
       "    </tr>\n",
       "    <tr>\n",
       "      <th>3</th>\n",
       "      <td>16.0</td>\n",
       "      <td>8</td>\n",
       "      <td>304.0</td>\n",
       "      <td>150.0</td>\n",
       "      <td>3433</td>\n",
       "      <td>12.0</td>\n",
       "      <td>70</td>\n",
       "      <td>1</td>\n",
       "      <td>amc rebel sst</td>\n",
       "    </tr>\n",
       "    <tr>\n",
       "      <th>4</th>\n",
       "      <td>17.0</td>\n",
       "      <td>8</td>\n",
       "      <td>302.0</td>\n",
       "      <td>140.0</td>\n",
       "      <td>3449</td>\n",
       "      <td>10.5</td>\n",
       "      <td>70</td>\n",
       "      <td>1</td>\n",
       "      <td>ford torino</td>\n",
       "    </tr>\n",
       "  </tbody>\n",
       "</table>\n",
       "</div>"
      ],
      "text/plain": [
       "    mpg  cylinders  displacement  horsepower  weight  acceleration  \\\n",
       "0  18.0          8         307.0       130.0    3504          12.0   \n",
       "1  15.0          8         350.0       165.0    3693          11.5   \n",
       "2  18.0          8         318.0       150.0    3436          11.0   \n",
       "3  16.0          8         304.0       150.0    3433          12.0   \n",
       "4  17.0          8         302.0       140.0    3449          10.5   \n",
       "\n",
       "   model year  origin                   car name  \n",
       "0          70       1  chevrolet chevelle malibu  \n",
       "1          70       1          buick skylark 320  \n",
       "2          70       1         plymouth satellite  \n",
       "3          70       1              amc rebel sst  \n",
       "4          70       1                ford torino  "
      ]
     },
     "execution_count": 30,
     "metadata": {},
     "output_type": "execute_result"
    }
   ],
   "source": [
    "data.head()"
   ]
  },
  {
   "cell_type": "code",
   "execution_count": 31,
   "metadata": {},
   "outputs": [
    {
     "data": {
      "text/plain": [
       "mpg             0\n",
       "cylinders       0\n",
       "displacement    0\n",
       "horsepower      6\n",
       "weight          0\n",
       "acceleration    0\n",
       "model year      0\n",
       "origin          0\n",
       "car name        0\n",
       "dtype: int64"
      ]
     },
     "execution_count": 31,
     "metadata": {},
     "output_type": "execute_result"
    }
   ],
   "source": [
    "data.isnull().sum()"
   ]
  },
  {
   "cell_type": "code",
   "execution_count": 32,
   "metadata": {},
   "outputs": [],
   "source": [
    "mapper=DataFrameMapper([\n",
    "                       (['cylinders','displacement','weight','acceleration','model year'],preprocessing.StandardScaler()),\n",
    "                       (['horsepower'],impute.SimpleImputer()),\n",
    "                       (['origin'],preprocessing.OneHotEncoder())\n",
    "                       ])"
   ]
  },
  {
   "cell_type": "code",
   "execution_count": 33,
   "metadata": {},
   "outputs": [],
   "source": [
    "pipeline_obj=pipeline.Pipeline([\n",
    "   (\"mapper\",mapper),(\"model\",ensemble.RandomForestRegressor()) \n",
    "])"
   ]
  },
  {
   "cell_type": "code",
   "execution_count": 34,
   "metadata": {},
   "outputs": [],
   "source": [
    "data.drop('car name',axis=1,inplace=True)"
   ]
  },
  {
   "cell_type": "code",
   "execution_count": 35,
   "metadata": {
    "scrolled": true
   },
   "outputs": [
    {
     "data": {
      "text/html": [
       "<div>\n",
       "<style scoped>\n",
       "    .dataframe tbody tr th:only-of-type {\n",
       "        vertical-align: middle;\n",
       "    }\n",
       "\n",
       "    .dataframe tbody tr th {\n",
       "        vertical-align: top;\n",
       "    }\n",
       "\n",
       "    .dataframe thead th {\n",
       "        text-align: right;\n",
       "    }\n",
       "</style>\n",
       "<table border=\"1\" class=\"dataframe\">\n",
       "  <thead>\n",
       "    <tr style=\"text-align: right;\">\n",
       "      <th></th>\n",
       "      <th>mpg</th>\n",
       "      <th>cylinders</th>\n",
       "      <th>displacement</th>\n",
       "      <th>horsepower</th>\n",
       "      <th>weight</th>\n",
       "      <th>acceleration</th>\n",
       "      <th>model year</th>\n",
       "      <th>origin</th>\n",
       "    </tr>\n",
       "  </thead>\n",
       "  <tbody>\n",
       "    <tr>\n",
       "      <th>0</th>\n",
       "      <td>18.0</td>\n",
       "      <td>8</td>\n",
       "      <td>307.0</td>\n",
       "      <td>130.0</td>\n",
       "      <td>3504</td>\n",
       "      <td>12.0</td>\n",
       "      <td>70</td>\n",
       "      <td>1</td>\n",
       "    </tr>\n",
       "    <tr>\n",
       "      <th>1</th>\n",
       "      <td>15.0</td>\n",
       "      <td>8</td>\n",
       "      <td>350.0</td>\n",
       "      <td>165.0</td>\n",
       "      <td>3693</td>\n",
       "      <td>11.5</td>\n",
       "      <td>70</td>\n",
       "      <td>1</td>\n",
       "    </tr>\n",
       "    <tr>\n",
       "      <th>2</th>\n",
       "      <td>18.0</td>\n",
       "      <td>8</td>\n",
       "      <td>318.0</td>\n",
       "      <td>150.0</td>\n",
       "      <td>3436</td>\n",
       "      <td>11.0</td>\n",
       "      <td>70</td>\n",
       "      <td>1</td>\n",
       "    </tr>\n",
       "    <tr>\n",
       "      <th>3</th>\n",
       "      <td>16.0</td>\n",
       "      <td>8</td>\n",
       "      <td>304.0</td>\n",
       "      <td>150.0</td>\n",
       "      <td>3433</td>\n",
       "      <td>12.0</td>\n",
       "      <td>70</td>\n",
       "      <td>1</td>\n",
       "    </tr>\n",
       "    <tr>\n",
       "      <th>4</th>\n",
       "      <td>17.0</td>\n",
       "      <td>8</td>\n",
       "      <td>302.0</td>\n",
       "      <td>140.0</td>\n",
       "      <td>3449</td>\n",
       "      <td>10.5</td>\n",
       "      <td>70</td>\n",
       "      <td>1</td>\n",
       "    </tr>\n",
       "  </tbody>\n",
       "</table>\n",
       "</div>"
      ],
      "text/plain": [
       "    mpg  cylinders  displacement  horsepower  weight  acceleration  \\\n",
       "0  18.0          8         307.0       130.0    3504          12.0   \n",
       "1  15.0          8         350.0       165.0    3693          11.5   \n",
       "2  18.0          8         318.0       150.0    3436          11.0   \n",
       "3  16.0          8         304.0       150.0    3433          12.0   \n",
       "4  17.0          8         302.0       140.0    3449          10.5   \n",
       "\n",
       "   model year  origin  \n",
       "0          70       1  \n",
       "1          70       1  \n",
       "2          70       1  \n",
       "3          70       1  \n",
       "4          70       1  "
      ]
     },
     "execution_count": 35,
     "metadata": {},
     "output_type": "execute_result"
    }
   ],
   "source": [
    "data.head()"
   ]
  },
  {
   "cell_type": "code",
   "execution_count": 36,
   "metadata": {},
   "outputs": [
    {
     "data": {
      "text/plain": [
       "Index(['mpg', 'cylinders', 'displacement', 'horsepower', 'weight',\n",
       "       'acceleration', 'model year', 'origin'],\n",
       "      dtype='object')"
      ]
     },
     "execution_count": 36,
     "metadata": {},
     "output_type": "execute_result"
    }
   ],
   "source": [
    "data.columns"
   ]
  },
  {
   "cell_type": "code",
   "execution_count": 37,
   "metadata": {},
   "outputs": [],
   "source": [
    "X=['cylinders','displacement','horsepower','weight','acceleration','model year','origin']"
   ]
  },
  {
   "cell_type": "code",
   "execution_count": 38,
   "metadata": {},
   "outputs": [],
   "source": [
    "y=['mpg']"
   ]
  },
  {
   "cell_type": "code",
   "execution_count": 39,
   "metadata": {},
   "outputs": [
    {
     "name": "stderr",
     "output_type": "stream",
     "text": [
      "C:\\Users\\Krishna P\\Anaconda3\\lib\\site-packages\\sklearn\\pipeline.py:335: DataConversionWarning: A column-vector y was passed when a 1d array was expected. Please change the shape of y to (n_samples,), for example using ravel().\n",
      "  self._final_estimator.fit(Xt, y, **fit_params_last_step)\n"
     ]
    },
    {
     "data": {
      "text/plain": [
       "Pipeline(steps=[('mapper',\n",
       "                 DataFrameMapper(features=[(['cylinders', 'displacement',\n",
       "                                             'weight', 'acceleration',\n",
       "                                             'model year'],\n",
       "                                            StandardScaler()),\n",
       "                                           (['horsepower'], SimpleImputer()),\n",
       "                                           (['origin'], OneHotEncoder())])),\n",
       "                ('model', RandomForestRegressor())])"
      ]
     },
     "execution_count": 39,
     "metadata": {},
     "output_type": "execute_result"
    }
   ],
   "source": [
    "pipeline_obj.fit(data[X],data[y])"
   ]
  },
  {
   "cell_type": "code",
   "execution_count": 40,
   "metadata": {},
   "outputs": [
    {
     "data": {
      "text/plain": [
       "array([17.128, 14.82 , 16.91 , 16.33 , 17.071, 14.52 , 14.04 , 14.19 ,\n",
       "       13.35 , 14.8  , 14.74 , 14.48 , 15.02 , 14.35 , 24.061, 21.769,\n",
       "       18.733, 20.986, 26.98 , 26.736, 24.278, 24.141, 24.512, 24.889,\n",
       "       20.958, 10.43 , 10.922, 11.7  ,  9.81 , 26.98 , 26.52 , 24.936,\n",
       "       25.85 , 19.344, 17.004, 17.326, 18.67 , 18.191, 13.91 , 13.66 ,\n",
       "       14.035, 14.26 , 12.12 , 12.99 , 12.76 , 18.186, 22.29 , 18.611,\n",
       "       18.185, 23.41 , 26.885, 29.52 , 29.275, 31.631, 33.55 , 27.405,\n",
       "       26.89 , 24.431, 25.685, 23.23 , 20.645, 22.17 , 13.455, 13.76 ,\n",
       "       14.63 , 14.035, 15.92 , 11.75 , 12.8  , 12.36 , 12.98 , 19.905,\n",
       "       14.815, 13.625, 13.49 , 14.19 , 18.88 , 22.755, 20.818, 26.17 ,\n",
       "       22.361, 26.5  , 22.77 , 27.26 , 26.45 , 13.335, 14.77 , 13.525,\n",
       "       13.99 , 14.63 , 12.03 , 13.12 , 13.28 , 14.16 , 12.58 , 12.27 ,\n",
       "       13.27 , 18.748, 16.34 , 18.36 , 18.147, 22.111, 26.376, 11.47 ,\n",
       "       12.24 , 12.68 , 12.265, 18.36 , 21.54 , 21.62 , 23.14 , 21.355,\n",
       "       20.042, 21.486, 25.65 , 14.48 , 14.945, 28.815, 25.14 , 21.426,\n",
       "       19.72 , 15.06 , 23.22 , 20.522, 12.33 , 20.331, 20.245, 19.237,\n",
       "       15.84 , 30.99 , 25.19 , 31.55 , 24.73 , 16.14 , 15.955, 17.867,\n",
       "       15.445, 13.26 , 13.955, 13.845, 14.207, 27.565, 27.585, 26.123,\n",
       "       31.885, 31.65 , 27.62 , 25.75 , 25.847, 23.762, 25.647, 30.175,\n",
       "       19.358, 17.773, 15.476, 15.779, 15.055, 14.855, 15.175, 14.32 ,\n",
       "       17.382, 16.072, 15.5  , 17.996, 20.581, 19.356, 15.239, 28.335,\n",
       "       23.612, 19.7  , 22.949, 24.208, 25.595, 24.018, 18.542, 28.75 ,\n",
       "       18.962, 23.259, 22.357, 21.453, 24.185, 32.695, 26.705, 25.33 ,\n",
       "       24.504, 26.06 , 27.335, 16.85 , 15.73 , 16.551, 14.879, 21.316,\n",
       "       20.363, 22.78 , 21.371, 29.815, 25.69 , 28.82 , 32.91 , 19.401,\n",
       "       18.362, 18.197, 18.498, 29.402, 31.92 , 28.295, 25.884, 20.241,\n",
       "       13.685, 20.042, 19.281, 17.147, 15.345, 13.85 , 13.878, 13.726,\n",
       "       31.408, 29.806, 34.642, 25.523, 32.862, 16.854, 17.365, 15.66 ,\n",
       "       15.477, 17.818, 20.47 , 19.02 , 18.235, 15.795, 15.635, 15.613,\n",
       "       15.735, 29.726, 24.413, 26.293, 24.892, 30.748, 31.86 , 30.582,\n",
       "       29.574, 21.588, 22.258, 21.924, 40.242, 35.797, 35.243, 36.754,\n",
       "       35.527, 19.694, 18.91 , 19.506, 19.189, 20.294, 20.619, 24.839,\n",
       "       20.076, 19.564, 20.449, 20.772, 18.827, 18.631, 18.831, 18.072,\n",
       "       18.37 , 17.011, 30.165, 25.508, 26.835, 29.453, 22.869, 23.11 ,\n",
       "       23.49 , 24.525, 21.021, 17.724, 21.89 , 17.056, 31.68 , 30.902,\n",
       "       21.312, 20.905, 23.601, 20.327, 20.682, 17.363, 17.915, 17.495,\n",
       "       17.87 , 16.673, 16.182, 20.017, 17.807, 33.626, 34.433, 35.751,\n",
       "       28.308, 25.54 , 21.843, 27.349, 22.775, 34.137, 34.307, 33.615,\n",
       "       36.221, 27.806, 27.608, 26.164, 31.229, 39.156, 37.747, 33.466,\n",
       "       37.608, 27.861, 25.912, 24.791, 20.222, 34.745, 30.008, 31.826,\n",
       "       35.131, 32.891, 43.251, 26.849, 40.813, 43.082, 40.735, 34.079,\n",
       "       31.438, 41.083, 38.707, 35.5  , 32.854, 28.202, 28.205, 33.785,\n",
       "       23.865, 32.651, 28.901, 27.154, 26.349, 24.268, 31.388, 38.361,\n",
       "       38.157, 35.972, 33.75 , 37.255, 36.978, 34.52 , 34.834, 34.566,\n",
       "       32.269, 33.552, 34.44 , 34.062, 32.695, 31.669, 31.587, 27.861,\n",
       "       28.326, 25.616, 25.277, 21.76 , 25.207, 21.305, 20.251, 28.753,\n",
       "       28.137, 33.033, 30.222, 29.27 , 26.817, 24.725, 24.094, 35.432,\n",
       "       35.833, 33.357, 37.495, 35.61 , 35.847, 35.368, 33.925, 36.322,\n",
       "       33.703, 36.721, 25.452, 31.227, 27.107, 24.371, 30.411, 34.166,\n",
       "       26.065, 26.986, 41.84 , 32.133, 28.771, 30.169])"
      ]
     },
     "execution_count": 40,
     "metadata": {},
     "output_type": "execute_result"
    }
   ],
   "source": [
    "pipeline_obj.predict(data[X])"
   ]
  },
  {
   "cell_type": "code",
   "execution_count": 41,
   "metadata": {},
   "outputs": [],
   "source": [
    "import joblib"
   ]
  },
  {
   "cell_type": "code",
   "execution_count": 42,
   "metadata": {},
   "outputs": [
    {
     "data": {
      "text/plain": [
       "['RFModelforMPG.pkl']"
      ]
     },
     "execution_count": 42,
     "metadata": {},
     "output_type": "execute_result"
    }
   ],
   "source": [
    "joblib.dump(pipeline_obj,'RFModelforMPG.pkl')"
   ]
  },
  {
   "cell_type": "code",
   "execution_count": 43,
   "metadata": {},
   "outputs": [],
   "source": [
    "modelReload=joblib.load('RFModelforMPG.pkl')"
   ]
  },
  {
   "cell_type": "code",
   "execution_count": null,
   "metadata": {},
   "outputs": [],
   "source": []
  }
 ],
 "metadata": {
  "kernelspec": {
   "display_name": "Python 3",
   "language": "python",
   "name": "python3"
  },
  "language_info": {
   "codemirror_mode": {
    "name": "ipython",
    "version": 3
   },
   "file_extension": ".py",
   "mimetype": "text/x-python",
   "name": "python",
   "nbconvert_exporter": "python",
   "pygments_lexer": "ipython3",
   "version": "3.7.3"
  }
 },
 "nbformat": 4,
 "nbformat_minor": 2
}
